{
 "cells": [
  {
   "cell_type": "code",
   "execution_count": 9,
   "metadata": {},
   "outputs": [],
   "source": [
    "class Bankaccount: \n",
    "    def __init__(self):\n",
    "# Function to deposite amount \n",
    "        def deposit(self): \n",
    "            amount = float(input(\"Enter amount to be Deposited: \")) \n",
    "            self.balance += amount \n",
    "            print(\"\\n Amount Deposited:\", amount) \n",
    "        # Function to withdraw the amount \n",
    "        def withdraw(self): \n",
    "            amount = float(input(\"Enter amount to be Withdrawed: \")) \n",
    "            if self.balance >= amount: \n",
    "                self.balance -= amount \n",
    "                print(\"\\n You Withdrawed:\", amount) \n",
    "            else: \n",
    "                print(\"\\n Insufficient balance  \") \n",
    "        # Functin to display the amount \n",
    "        def display(self): \n",
    "            print(\"\\n Net Available Balance =\", self.balance) "
   ]
  },
  {
   "cell_type": "code",
   "execution_count": 11,
   "metadata": {},
   "outputs": [
    {
     "name": "stdout",
     "output_type": "stream",
     "text": [
      "Hello!!!Welcome to Deposit&Withdrawl Machine\n",
      "Enter amount to be Deposited: 5000\n",
      "\n",
      " Amount Deposited: 5000.0\n",
      "Enter amount to be Withdrawed: 3400\n",
      "\n",
      " You Withdrawed: 3400.0\n",
      "\n",
      " Net Available Balance= 1600.0\n"
     ]
    }
   ],
   "source": [
    "# Python program to create Bankaccount class \n",
    "# with deposit, withdraw function \n",
    "class Bankaccount: \n",
    "    def __init__(self): \n",
    "        self.balance=0\n",
    "        print(\"Hello!!!Welcome to Deposit&Withdrawl Machine\") \n",
    "  \n",
    "    def deposit(self): \n",
    "        amount=float(input(\"Enter amount to be Deposited: \")) \n",
    "        self.balance += amount \n",
    "        print(\"\\n Amount Deposited:\",amount) \n",
    "  \n",
    "    def withdraw(self): \n",
    "        amount = float(input(\"Enter amount to be Withdrawed: \")) \n",
    "        if self.balance>=amount: \n",
    "            self.balance-=amount \n",
    "            print(\"\\n You Withdrawed:\", amount) \n",
    "        else: \n",
    "            print(\"\\n Insufficient balance  \") \n",
    "  \n",
    "    def display(self): \n",
    "        print(\"\\n Net Available Balance=\",self.balance) \n",
    "  \n",
    "# Driver code \n",
    "   \n",
    "# creating an object of class \n",
    "s = Bankaccount() \n",
    "   \n",
    "# Calling functions with that class object \n",
    "s.deposit() \n",
    "s.withdraw() \n",
    "s.display() "
   ]
  },
  {
   "cell_type": "code",
   "execution_count": null,
   "metadata": {},
   "outputs": [],
   "source": []
  }
 ],
 "metadata": {
  "kernelspec": {
   "display_name": "Python 3",
   "language": "python",
   "name": "python3"
  },
  "language_info": {
   "codemirror_mode": {
    "name": "ipython",
    "version": 3
   },
   "file_extension": ".py",
   "mimetype": "text/x-python",
   "name": "python",
   "nbconvert_exporter": "python",
   "pygments_lexer": "ipython3",
   "version": "3.7.0"
  }
 },
 "nbformat": 4,
 "nbformat_minor": 2
}
